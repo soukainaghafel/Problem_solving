{
  "nbformat": 4,
  "nbformat_minor": 0,
  "metadata": {
    "colab": {
      "provenance": []
    },
    "kernelspec": {
      "name": "python3",
      "display_name": "Python 3"
    },
    "language_info": {
      "name": "python"
    }
  },
  "cells": [
    {
      "cell_type": "markdown",
      "source": [
        "\n",
        "\n",
        "the first two problems are solved at this link https://realpython.com/python-practice-problems/"
      ],
      "metadata": {
        "id": "2m1gHprBjvY7"
      }
    },
    {
      "cell_type": "markdown",
      "source": [
        "Python Practice Problem 1: Sum of a Range of Integers"
      ],
      "metadata": {
        "id": "2IAhPVqSjalK"
      }
    },
    {
      "cell_type": "code",
      "execution_count": null,
      "metadata": {
        "id": "Ms56vK0nQKcZ"
      },
      "outputs": [],
      "source": [
        "def add_it_up(x):\n",
        "  sum1=0\n",
        "  if type(x)== int:\n",
        "    for i in range(x+1):\n",
        "      sum1+=i\n",
        "\n",
        "  return sum1\n"
      ]
    },
    {
      "cell_type": "code",
      "source": [
        "add_it_up(4.5)"
      ],
      "metadata": {
        "colab": {
          "base_uri": "https://localhost:8080/"
        },
        "id": "DCTUnVTuTrrG",
        "outputId": "e81ecc38-ad03-41a3-eeb4-31f2f5f49983"
      },
      "execution_count": null,
      "outputs": [
        {
          "output_type": "execute_result",
          "data": {
            "text/plain": [
              "0"
            ]
          },
          "metadata": {},
          "execution_count": 16
        }
      ]
    },
    {
      "cell_type": "markdown",
      "source": [
        "Python Practice Problem 2: Caesar Cipher\n"
      ],
      "metadata": {
        "id": "3-XUrXs1jcun"
      }
    },
    {
      "cell_type": "code",
      "source": [
        "def encrypt(text,s):\n",
        "    result = \"\"\n",
        "    for i in range(len(text)):\n",
        "        char = text[i]\n",
        "        if text[i]!=' ':\n",
        "         result += chr((ord(char) + s - 97) % 26 + 97)\n",
        "        else :\n",
        "          result+= ' '\n",
        "\n",
        "    return result\n",
        "\n"
      ],
      "metadata": {
        "id": "FBtFw_ixgvSG"
      },
      "execution_count": null,
      "outputs": []
    },
    {
      "cell_type": "code",
      "source": [
        "encrypt('abcd xyz',4)"
      ],
      "metadata": {
        "colab": {
          "base_uri": "https://localhost:8080/",
          "height": 36
        },
        "id": "gsO9tRuYhAY4",
        "outputId": "c3d2d62b-fb27-4382-8583-6460391af31c"
      },
      "execution_count": null,
      "outputs": [
        {
          "output_type": "execute_result",
          "data": {
            "text/plain": [
              "'efgh bcd'"
            ],
            "application/vnd.google.colaboratory.intrinsic+json": {
              "type": "string"
            }
          },
          "metadata": {},
          "execution_count": 80
        }
      ]
    },
    {
      "cell_type": "markdown",
      "source": [],
      "metadata": {
        "id": "7of0lLpMjh8f"
      }
    },
    {
      "cell_type": "code",
      "source": [
        "def ln()"
      ],
      "metadata": {
        "id": "nFtwf7u6yN4f"
      },
      "execution_count": null,
      "outputs": []
    }
  ]
}