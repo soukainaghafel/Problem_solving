{
  "nbformat": 4,
  "nbformat_minor": 0,
  "metadata": {
    "colab": {
      "provenance": []
    },
    "kernelspec": {
      "name": "python3",
      "display_name": "Python 3"
    },
    "language_info": {
      "name": "python"
    }
  },
  "cells": [
    {
      "cell_type": "code",
      "execution_count": null,
      "metadata": {
        "id": "x_0zqo-ooGLQ"
      },
      "outputs": [],
      "source": [
        "#Task: Write a function to count the number of vowels in a given string.\n",
        "def vowels(s:str)->int:\n",
        "  c=0\n",
        "  v=[\"a\",\"i\",\"o\",\"u\",\"e\",\"E\",\"O\",\"A\",\"U\",\"I\"]\n",
        "  for i in s:\n",
        "    if i in v:\n",
        "      c+=1\n",
        "  return c"
      ]
    },
    {
      "cell_type": "code",
      "source": [
        "#Task: Write a function that takes a string and returns the same string but with every second letter capitalized.\n",
        "def char(s:str)->str:\n",
        "  s1=\"\"\n",
        "  for i in s:\n",
        "    if s.index(i)==1:\n",
        "      i=s[1].upper()\n",
        "      s1+=i\n",
        "    else:\n",
        "      s1+=i\n",
        "  return s1\n",
        "# second method\n",
        "def char1(s):\n",
        "  s1=\"\"\n",
        "  for i,c in enumerate(s):\n",
        "    if i==1:\n",
        "      s1+=c.upper()\n",
        "    else:\n",
        "      s1+= c\n",
        "  return s1"
      ],
      "metadata": {
        "id": "xKllprpkvJh7"
      },
      "execution_count": null,
      "outputs": []
    },
    {
      "cell_type": "code",
      "source": [
        "#Task: Write a function that takes a list of numbers and returns a new list containing only the even numbers.\n",
        "from typing import List\n",
        "\n",
        "def even(l: List[int]) -> List[int]:\n",
        "    l1 = []\n",
        "    for i in l:\n",
        "        if i % 2 == 0:\n",
        "            l1.append(i)\n",
        "    return l1\n"
      ],
      "metadata": {
        "id": "Hh0H8DVd8cBr"
      },
      "execution_count": null,
      "outputs": []
    },
    {
      "cell_type": "code",
      "source": [
        "#Task: Write a function that takes a list and returns a new list with duplicate values removed.\n",
        "def dup(l:List[int]) -> List[int]:\n",
        "  l1=list(set(l))\n",
        "  return l1"
      ],
      "metadata": {
        "id": "WhBX506iHmyz"
      },
      "execution_count": null,
      "outputs": []
    },
    {
      "cell_type": "code",
      "source": [
        "#Task: Write a function that takes two sets and returns their intersection as a new set.\n",
        "from typing import Set\n",
        "def intersect(s:Set,s1:Set)->Set:\n",
        " s_new= s.intersection(s1)\n",
        " return s_new"
      ],
      "metadata": {
        "id": "GoIQd9J6Ionq"
      },
      "execution_count": null,
      "outputs": []
    },
    {
      "cell_type": "code",
      "source": [
        "#Task: Write a function that takes two sets and returns their union as a new set.\n",
        "def un(s:Set,s1:Set)->Set:\n",
        " s_new= s.union(s1)\n",
        " return s_new"
      ],
      "metadata": {
        "id": "IRyRCrouKRTK"
      },
      "execution_count": null,
      "outputs": []
    },
    {
      "cell_type": "code",
      "source": [
        "#Task: Write a function that takes a list of tuples and sorts them based on the second element of each tuple.\n",
        "def sort(t):\n",
        "  key_func = lambda x: x[1]\n",
        "  t1= sorted(t, key=key_func)\n",
        "  return t1"
      ],
      "metadata": {
        "id": "ovLRrhM3K3Jb"
      },
      "execution_count": null,
      "outputs": []
    },
    {
      "cell_type": "code",
      "source": [
        "#Task: Write a function that takes a tuple and returns a reversed version of that tuple.\n",
        "from typing import Tuple\n",
        "def rev(t:Tuple) -> Tuple:\n",
        " t1=t[::-1]\n",
        " return t1"
      ],
      "metadata": {
        "id": "d--GM6JXM7BC"
      },
      "execution_count": null,
      "outputs": []
    },
    {
      "cell_type": "code",
      "source": [
        "def sort_tuples(tuples):\n",
        "    return sorted(tuples, key=lambda x: x[1])"
      ],
      "metadata": {
        "id": "3KwfLq2NuLNi"
      },
      "execution_count": 36,
      "outputs": []
    },
    {
      "cell_type": "code",
      "source": [
        "#Task: Write a function that takes a dictionary and returns the keys and values as separate lists.\n",
        "def keys_values(d:dict):\n",
        " keys=d.keys()\n",
        " values=d.values()\n",
        " return keys, values\n",
        " # u don't have to import sth.\n"
      ],
      "metadata": {
        "id": "Tg0vSulZPuPP"
      },
      "execution_count": null,
      "outputs": []
    },
    {
      "cell_type": "code",
      "source": [
        "#Task: Write a function that takes a dictionary and a key, and if the key exists in the dictionary, return its value. If the key does not exist, return a default value.\n",
        "def dic(d: dict, k, default=None):\n",
        "    if k in d:\n",
        "        return d[k]\n",
        "    else:\n",
        "        return default"
      ],
      "metadata": {
        "id": "UiT_jRFaThkR"
      },
      "execution_count": null,
      "outputs": []
    }
  ]
}