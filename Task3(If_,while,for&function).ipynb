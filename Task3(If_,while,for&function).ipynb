{
  "nbformat": 4,
  "nbformat_minor": 0,
  "metadata": {
    "colab": {
      "provenance": []
    },
    "kernelspec": {
      "name": "python3",
      "display_name": "Python 3"
    },
    "language_info": {
      "name": "python"
    }
  },
  "cells": [
    {
      "cell_type": "markdown",
      "source": [
        "Tasks :\n",
        "If:"
      ],
      "metadata": {
        "id": "09RNdTa_S_Bp"
      }
    },
    {
      "cell_type": "code",
      "source": [
        "# 3) Determining price categories based on age for a theme park\n",
        "# if age under 5, price 0,\n",
        "# age between 6 and 12  -> price 10\n",
        "# age between 13 and 65 -> price 20\n",
        "# age above 65 -> price 15\n",
        "x= 4\n",
        "if x<=5:\n",
        "  print(\"the price is 0\")\n",
        "elif 6<=x<=12:\n",
        "  print(\"the price is 10\")\n",
        "elif 13<=x<=65:\n",
        "  print(\"the price is 20\")\n",
        "else:\n",
        "  print(\"the price is 65\")"
      ],
      "metadata": {
        "colab": {
          "base_uri": "https://localhost:8080/"
        },
        "id": "1yxXc33iTFy4",
        "outputId": "f7d35064-27f6-44ec-953c-9eff154e4078"
      },
      "execution_count": null,
      "outputs": [
        {
          "output_type": "stream",
          "name": "stdout",
          "text": [
            "the price is 0\n"
          ]
        }
      ]
    },
    {
      "cell_type": "code",
      "source": [
        "#Classifying a student's grade A, B, C, D, F\n",
        "x=49\n",
        "if x<50:\n",
        "  print(\"ur mark is F\")\n",
        "elif 50<=x<60:\n",
        "  print(\"ur mark is d\")\n",
        "elif 60<=x<80:\n",
        "  print(\"ur mark is C\")\n",
        "elif 80<=x<90:\n",
        "  print(\"ur mark is b\")\n",
        "else:\n",
        "  print(\"ur mark is A\")\n",
        "\n",
        "# or u can use another method by using format print which I've learned from chatgpt\n",
        "\n",
        "if x<50:\n",
        "  mark= \"F\"\n",
        "elif 50<=x<60:\n",
        "  mark=\"D\"\n",
        "elif 60<=x<80:\n",
        "  mark=\"C\"\n",
        "elif 80<=x<90:\n",
        "  mark=\"B\"\n",
        "else:\n",
        "  mark=\"A\"\n",
        "print(\"ur mark is{}\".format(mark))"
      ],
      "metadata": {
        "colab": {
          "base_uri": "https://localhost:8080/"
        },
        "id": "wi0KlRMEWy6d",
        "outputId": "28c57243-6c01-43b7-e1a4-7e66f81ad02d"
      },
      "execution_count": null,
      "outputs": [
        {
          "output_type": "stream",
          "name": "stdout",
          "text": [
            "ur mark is F\n",
            "ur mark isF\n"
          ]
        }
      ]
    },
    {
      "cell_type": "code",
      "source": [
        "# 5) check password\n",
        "# username = \"admin\"\n",
        "# password = \"123456\"\n",
        "def check(username,password):\n",
        "  if username == \"admin\" and password== \"123456\" :\n",
        "    print(\"pass\")\n",
        "  else:\n",
        "    print(\"try again\")"
      ],
      "metadata": {
        "id": "oZub5jfIZoJN"
      },
      "execution_count": null,
      "outputs": []
    },
    {
      "cell_type": "code",
      "source": [
        "# 6) dicount coupon\n",
        "# Discounts on a product based on a coupon code:DISCOUNT10 -> price - 10\n",
        "price= 34\n",
        "diss=\"DISCOU\"\n",
        "if diss==\"DISCOUNT10\":\n",
        "  price-=10\n",
        "print(\"the price after discount is {}\".format(price))"
      ],
      "metadata": {
        "colab": {
          "base_uri": "https://localhost:8080/"
        },
        "id": "2Khmls7pbmbw",
        "outputId": "39760595-f08f-4333-a4af-fb21bdbabbf7"
      },
      "execution_count": null,
      "outputs": [
        {
          "output_type": "stream",
          "name": "stdout",
          "text": [
            "the price after discount is 34\n"
          ]
        }
      ]
    },
    {
      "cell_type": "markdown",
      "source": [
        "Tasks for loops:"
      ],
      "metadata": {
        "id": "sopm5k7PiEdM"
      }
    },
    {
      "cell_type": "code",
      "source": [
        "# 1) Print the square of each number in the list [1, 2, 3, 4, 5].\n",
        "k=[1, 2, 3, 4, 5]\n",
        "for i in k:\n",
        "  sq=i*i\n",
        "  print(sq)"
      ],
      "metadata": {
        "colab": {
          "base_uri": "https://localhost:8080/"
        },
        "id": "BoV0YXSPiNQ3",
        "outputId": "b098aeac-6867-4eac-c5f1-c9e5317cec25"
      },
      "execution_count": null,
      "outputs": [
        {
          "output_type": "stream",
          "name": "stdout",
          "text": [
            "1\n",
            "4\n",
            "9\n",
            "16\n",
            "25\n"
          ]
        }
      ]
    },
    {
      "cell_type": "code",
      "source": [
        "# 2) Print all numbers from 0 to 10 using a while loop.\n",
        "i=0\n",
        "while i<=10:\n",
        "  print(i)\n",
        "  i+=1"
      ],
      "metadata": {
        "colab": {
          "base_uri": "https://localhost:8080/"
        },
        "id": "Dw3a8_SyjYji",
        "outputId": "b1a4f09d-1529-4994-db2c-dff0250c229f"
      },
      "execution_count": null,
      "outputs": [
        {
          "output_type": "stream",
          "name": "stdout",
          "text": [
            "0\n",
            "1\n",
            "2\n",
            "3\n",
            "4\n",
            "5\n",
            "6\n",
            "7\n",
            "8\n",
            "9\n",
            "10\n"
          ]
        }
      ]
    },
    {
      "cell_type": "code",
      "source": [
        "# 3) Count down from 10 to 1 and then print \"Blast off!\"\n",
        "i=10\n",
        "while i>=1:\n",
        " print (i)\n",
        " i-=1\n",
        "print(\"Blast off!\")\n"
      ],
      "metadata": {
        "colab": {
          "base_uri": "https://localhost:8080/"
        },
        "id": "-lPnu8lFjzKD",
        "outputId": "d6679bd9-3f94-4799-fb29-b9cf30c14ddf"
      },
      "execution_count": null,
      "outputs": [
        {
          "output_type": "stream",
          "name": "stdout",
          "text": [
            "10\n",
            "9\n",
            "8\n",
            "7\n",
            "6\n",
            "5\n",
            "4\n",
            "3\n",
            "2\n",
            "1\n",
            "Blast off!\n"
          ]
        }
      ]
    },
    {
      "cell_type": "code",
      "source": [
        "# 4) Print all even numbers from the list [1, 2, 3, 4, 5, 6, 7, 8, 9, 10] in one line using a for loop.\n",
        "l=[1, 2, 3, 4, 5, 6, 7, 8, 9, 10]\n",
        "for i in l:\n",
        "  if i%2==0:\n",
        "    print(i,end=\" \")"
      ],
      "metadata": {
        "colab": {
          "base_uri": "https://localhost:8080/"
        },
        "id": "_UniQhT_k5Sk",
        "outputId": "6c7a5c8d-29e2-4f29-98c8-2ff1cfe80914"
      },
      "execution_count": null,
      "outputs": [
        {
          "output_type": "stream",
          "name": "stdout",
          "text": [
            "2 4 6 8 10 "
          ]
        }
      ]
    },
    {
      "cell_type": "markdown",
      "source": [
        "Tasks Function:"
      ],
      "metadata": {
        "id": "2Wr67sfplpH0"
      }
    },
    {
      "cell_type": "code",
      "source": [
        "#Task 1: Write a program that takes two numbers as inputs from the user and prints their sum.\n",
        "def sum(num1,num2):\n",
        "  return num1+num2\n",
        "sum(7,8)"
      ],
      "metadata": {
        "colab": {
          "base_uri": "https://localhost:8080/"
        },
        "id": "QGO3uxm_lsOS",
        "outputId": "70c39f3e-521f-421b-de63-caf928c3823d"
      },
      "execution_count": null,
      "outputs": [
        {
          "output_type": "execute_result",
          "data": {
            "text/plain": [
              "15"
            ]
          },
          "metadata": {},
          "execution_count": 64
        }
      ]
    },
    {
      "cell_type": "code",
      "source": [
        "#Task 2: Write a program that takes an integer input from the user. Use a for loop to print all numbers from that integer down to 0.\n",
        "def game(int):\n",
        "  for i in range(int,-1,-1):\n",
        "   print(i)\n",
        "game(3)"
      ],
      "metadata": {
        "colab": {
          "base_uri": "https://localhost:8080/"
        },
        "id": "hVukZ_jhtwlG",
        "outputId": "6a322fd4-e1b7-44fd-bef0-e50bd9017466"
      },
      "execution_count": null,
      "outputs": [
        {
          "output_type": "stream",
          "name": "stdout",
          "text": [
            "3\n",
            "2\n",
            "1\n",
            "0\n"
          ]
        }
      ]
    },
    {
      "cell_type": "code",
      "source": [
        "#Task 3: Write a program that takes an integer input from the user. Use a while loop to keep doubling the number until it is greater than 1000, then print the result.\n",
        "def double(int):\n",
        " while int<1000:\n",
        "  int*=2\n",
        " return int\n",
        "double(100)"
      ],
      "metadata": {
        "colab": {
          "base_uri": "https://localhost:8080/"
        },
        "id": "WhVpvgRYuhPg",
        "outputId": "29fff3d0-bca5-443c-e51d-0223e00c522c"
      },
      "execution_count": null,
      "outputs": [
        {
          "output_type": "execute_result",
          "data": {
            "text/plain": [
              "1600"
            ]
          },
          "metadata": {},
          "execution_count": 79
        }
      ]
    },
    {
      "cell_type": "code",
      "source": [
        "#Task 4: Write a function that takes a number as input and returns the square of the number. Use it in a program that takes an input from the user and prints the square.\n",
        "def square(int):\n",
        "  sq=int**2\n",
        "  print(f\"the number is {int},and the square of the number is {sq}\")\n",
        "  return sq\n",
        "square(7)"
      ],
      "metadata": {
        "colab": {
          "base_uri": "https://localhost:8080/"
        },
        "id": "dqQea4how96H",
        "outputId": "332d9a1c-3e94-406f-dc80-07b7de99711f"
      },
      "execution_count": null,
      "outputs": [
        {
          "output_type": "stream",
          "name": "stdout",
          "text": [
            "the number is 7,and the square of the number is 49\n"
          ]
        },
        {
          "output_type": "execute_result",
          "data": {
            "text/plain": [
              "49"
            ]
          },
          "metadata": {},
          "execution_count": 83
        }
      ]
    },
    {
      "cell_type": "code",
      "source": [
        "#Task 5: write a program that takes a number as input from the user. If the number is greater than 10, print \"Big number\". If the number is less than or equal to 10, print \"Small number\".\n",
        "def int10(int):\n",
        "  if int>10:\n",
        "    print(\"Big number\")\n",
        "  elif int<=10:\n",
        "    print(\"Small number\")"
      ],
      "metadata": {
        "id": "LLLUln4zx8LB"
      },
      "execution_count": null,
      "outputs": []
    },
    {
      "cell_type": "code",
      "source": [
        "#Task 6: Write a function that takes two numbers as inputs and returns their product. Use this function in a program that takes two inputs from the user and prints the product.\n",
        "#first part\n",
        "def product(num1,num2):\n",
        "  return num1*num2\n",
        "#second part\n",
        "n1=float(input(\"Enter ur first number here\"))\n",
        "n2=float(input(\"Enter ur second number here\"))\n",
        "product(n1,n2)"
      ],
      "metadata": {
        "colab": {
          "base_uri": "https://localhost:8080/"
        },
        "id": "bEaFRDHg0M7D",
        "outputId": "06fbc5ca-26e1-4af8-e8e0-b9e65ac817c7"
      },
      "execution_count": null,
      "outputs": [
        {
          "name": "stdout",
          "output_type": "stream",
          "text": [
            "Enter ur first number here7\n",
            "Enter ur second number here7\n"
          ]
        },
        {
          "output_type": "execute_result",
          "data": {
            "text/plain": [
              "49.0"
            ]
          },
          "metadata": {},
          "execution_count": 118
        }
      ]
    },
    {
      "cell_type": "code",
      "source": [
        "#Task 7: Write a program that uses a while loop to take a number as input from the user, subtract 5, and print the result. Continue this until the result is less than 0.\n",
        "def sub(int):\n",
        " while int>0:\n",
        "  int-=5\n",
        "  print(int)\n",
        "sub(9)"
      ],
      "metadata": {
        "colab": {
          "base_uri": "https://localhost:8080/"
        },
        "id": "XrPZcUQY1NHt",
        "outputId": "7ff6b827-7d39-4b2d-f067-6729e404e57f"
      },
      "execution_count": null,
      "outputs": [
        {
          "output_type": "stream",
          "name": "stdout",
          "text": [
            "4\n",
            "-1\n"
          ]
        }
      ]
    },
    {
      "cell_type": "code",
      "source": [
        "#Task 8: Write a program that uses a for loop to take an integer input from the user and print the factorial of that number.\n",
        "import math as m\n",
        "def fra(x):\n",
        " frac= m.factorial(x)\n",
        " print(frac)"
      ],
      "metadata": {
        "id": "9z51YIgD3JPb"
      },
      "execution_count": null,
      "outputs": []
    },
    {
      "cell_type": "code",
      "source": [
        "fra(4)"
      ],
      "metadata": {
        "colab": {
          "base_uri": "https://localhost:8080/"
        },
        "id": "_DPNe16Oj-H_",
        "outputId": "82bbc578-ada3-4191-a305-dd79a5792c2e"
      },
      "execution_count": null,
      "outputs": [
        {
          "output_type": "stream",
          "name": "stdout",
          "text": [
            "24\n"
          ]
        }
      ]
    },
    {
      "cell_type": "code",
      "source": [
        "#Task 9: Write a program that takes a number as input from the user. If the number is positive, print \"Positive\". If the number is negative, print \"Negative\". If the number is zero, print \"Zero\".\n",
        "def det(num):\n",
        "  if num>0:\n",
        "    p=\"positive\"\n",
        "  elif num<0:\n",
        "    p=\"Negative\"\n",
        "  else:\n",
        "      p=\"Zero\"\n",
        "  print(p)"
      ],
      "metadata": {
        "id": "AK49w8jN5i0G"
      },
      "execution_count": null,
      "outputs": []
    },
    {
      "cell_type": "code",
      "source": [
        "#Task 10: Write a lambda function that takes two numbers as inputs and returns their division as a floating-point number. Use this function in a program that takes two inputs from the user and prints the division.\n",
        "division = lambda num, num1: num / num1\n"
      ],
      "metadata": {
        "id": "dZ9VsTew6aOe"
      },
      "execution_count": null,
      "outputs": []
    },
    {
      "cell_type": "code",
      "source": [
        "int=float(input(\"The first number\"))\n",
        "int1=float(input(\"The second number\"))\n",
        "division(int,int1)"
      ],
      "metadata": {
        "colab": {
          "base_uri": "https://localhost:8080/"
        },
        "id": "9DQsthfW8ewE",
        "outputId": "94ac9a71-343f-445a-cbd0-be8f6821483e"
      },
      "execution_count": null,
      "outputs": [
        {
          "name": "stdout",
          "output_type": "stream",
          "text": [
            "The first number6\n",
            "The second number7\n"
          ]
        },
        {
          "output_type": "execute_result",
          "data": {
            "text/plain": [
              "0.8571428571428571"
            ]
          },
          "metadata": {},
          "execution_count": 142
        }
      ]
    }
  ]
}