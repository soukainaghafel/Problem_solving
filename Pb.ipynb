{
  "nbformat": 4,
  "nbformat_minor": 0,
  "metadata": {
    "colab": {
      "provenance": []
    },
    "kernelspec": {
      "name": "python3",
      "display_name": "Python 3"
    },
    "language_info": {
      "name": "python"
    }
  },
  "cells": [
    {
      "cell_type": "markdown",
      "source": [
        "You are given a positive integer .\n",
        "Your task is to print a palindromic triangle of size ."
      ],
      "metadata": {
        "id": "9uG8tlC0b8uj"
      }
    },
    {
      "cell_type": "code",
      "source": [
        "for i in range(1, int(input()) + 1):\n",
        "    # Inner loop for each element in the row\n",
        "    for j in range(1, i +1) :\n",
        "        print(j, end=\"\")\n",
        "    # Inner loop for the right half of the row (excluding the first element)\n",
        "    for j in range(i - 1, 0, -1):\n",
        "        print(j, end=\"\")\n",
        "    print()  # Move to the next line\n"
      ],
      "metadata": {
        "colab": {
          "base_uri": "https://localhost:8080/"
        },
        "id": "CiWptmruIFqC",
        "outputId": "f59841f7-7bcf-48dc-b4c5-ed7a042cd6cd"
      },
      "execution_count": null,
      "outputs": [
        {
          "output_type": "stream",
          "name": "stdout",
          "text": [
            "5\n",
            "1\n",
            "121\n",
            "12321\n",
            "1234321\n",
            "123454321\n"
          ]
        }
      ]
    },
    {
      "cell_type": "markdown",
      "source": [
        "You are given a positive integer ,which 1<=N<=9. Print a numerical triangle of height  like the one below:\n",
        "\n",
        "1\n",
        "\n",
        "22\n",
        "\n",
        "333\n",
        "\n",
        "4444\n",
        "\n",
        "55555\n",
        "\n",
        "......\n"
      ],
      "metadata": {
        "id": "tD1GiuspJOdr"
      }
    },
    {
      "cell_type": "code",
      "source": [
        "n = int(input())\n",
        "for i in range(1, n+1):\n",
        "    print(ascii(i) * i)# or print(str(i)*i)\n"
      ],
      "metadata": {
        "colab": {
          "base_uri": "https://localhost:8080/"
        },
        "id": "PCXwZLriDLhu",
        "outputId": "72e4188b-6173-46c9-bac8-c3779ec9d7fc"
      },
      "execution_count": null,
      "outputs": [
        {
          "output_type": "stream",
          "name": "stdout",
          "text": [
            "4\n",
            "1\n",
            "22\n",
            "333\n",
            "4444\n"
          ]
        }
      ]
    },
    {
      "cell_type": "markdown",
      "source": [
        "define a function to built alowercase() from scratch"
      ],
      "metadata": {
        "id": "JUABMSJzU-nF"
      }
    },
    {
      "cell_type": "code",
      "source": [
        "def lowercase1(word):\n",
        "  word1=\"\"\n",
        "  for i in word:\n",
        "    ascii_value=ord(i)\n",
        "    if 64<=ascii_value<=90:\n",
        "     ascii_value += 32\n",
        "    word1+=chr(ascii_value)\n",
        "  return word1"
      ],
      "metadata": {
        "id": "U-2AXpFCNjCD"
      },
      "execution_count": null,
      "outputs": []
    },
    {
      "cell_type": "markdown",
      "source": [
        "To make sure that a matrix is invertible and we can find the inverse of it."
      ],
      "metadata": {
        "id": "PZm7pLk6xtrX"
      }
    },
    {
      "cell_type": "code",
      "source": [
        "import numpy as np\n",
        "\n",
        "# Define a singular matrix\n",
        "singular_matrix = np.array([[1, 2],\n",
        "                            [2, 4]])\n",
        "# Attempt to calculate the inverse\n",
        "try:\n",
        "    inverse_of_singular_matrix = np.linalg.inv(singular_matrix)\n",
        "    print(\"Inverse of the singular matrix:\")\n",
        "    print(inverse_of_singular_matrix)\n",
        "\n",
        "except np.linalg.LinAlgError as e  :\n",
        "    print(f\"The matrix is singular and does not have an inverse. Error: {e}\")"
      ],
      "metadata": {
        "colab": {
          "base_uri": "https://localhost:8080/"
        },
        "id": "ngMsief2yCAE",
        "outputId": "0d46a225-833f-4487-e9ad-c25cc6b11986"
      },
      "execution_count": null,
      "outputs": [
        {
          "output_type": "stream",
          "name": "stdout",
          "text": [
            "The matrix is singular and does not have an inverse. Error: Singular matrix\n"
          ]
        }
      ]
    },
    {
      "cell_type": "code",
      "source": [
        "outside = ['G1','G1','G1','G2','G2','G2']\n",
        "inside = [1,2,3,1,2,3]\n",
        "hier_index = list(zip(outside,inside))\n",
        "outside = ['G1','G1','G1','G2','G2','G2']\n",
        "inside = [1,2,3,1,2,3]\n",
        "hier_index = list(zip(outside,inside))\n",
        "hier_index = pd.MultiIndex.from_tuples(hier_index)"
      ],
      "metadata": {
        "id": "3WetFsBBe9Q4"
      },
      "execution_count": null,
      "outputs": []
    },
    {
      "cell_type": "code",
      "source": [
        "import numpy as np\n",
        "import pandas as pd\n",
        "df = pd.DataFrame(np.random.randn(6,2),index=hier_index,columns=['A','B'])\n",
        "result = df[(df.index.get_level_values(0) == 'G1') & (df.index.get_level_values(1).isin([1, 2]))]"
      ],
      "metadata": {
        "id": "IaLzowfifIVc"
      },
      "execution_count": null,
      "outputs": []
    }
  ]
}