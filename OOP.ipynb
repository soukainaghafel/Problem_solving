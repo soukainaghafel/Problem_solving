{
  "nbformat": 4,
  "nbformat_minor": 0,
  "metadata": {
    "colab": {
      "provenance": []
    },
    "kernelspec": {
      "name": "python3",
      "display_name": "Python 3"
    },
    "language_info": {
      "name": "python"
    }
  },
  "cells": [
    {
      "cell_type": "markdown",
      "source": [
        "Task 1: Inheritance\n",
        "\n",
        "Create a base class Animal that has a method speak() which prints \"I don't know what I say!\". Then create two derived classes Dog and Cat which override the speak() method. The speak() method in the Dog class should print \"Woof Woof!\" and the speak() method in the Cat class should print \"Meow Meow!\"."
      ],
      "metadata": {
        "id": "uRs6El1_AGCY"
      }
    },
    {
      "cell_type": "code",
      "source": [
        "class Animal():\n",
        "  def speak(self):\n",
        "   print(\"I don't know what I say!\")\n",
        "class Dog(Animal):\n",
        " def speak(self):\n",
        "  print(\"Woof Woof!\")\n",
        "class Cat(Animal):\n",
        "  def speak(self):\n",
        "    print(\"Meow Meow!\")"
      ],
      "metadata": {
        "id": "On_EOGQmAJl-"
      },
      "execution_count": 32,
      "outputs": []
    },
    {
      "cell_type": "code",
      "source": [
        "dog = Dog()\n",
        "cat = Cat()\n",
        "\n",
        "dog.speak()\n",
        "cat.speak()"
      ],
      "metadata": {
        "colab": {
          "base_uri": "https://localhost:8080/"
        },
        "id": "10R8q7ndXxfW",
        "outputId": "7d464f50-9ee7-4ef1-91a0-20118aadfe9d"
      },
      "execution_count": 34,
      "outputs": [
        {
          "output_type": "stream",
          "name": "stdout",
          "text": [
            "Woof Woof!\n",
            "Meow Meow!\n"
          ]
        }
      ]
    },
    {
      "cell_type": "markdown",
      "source": [
        "Task 2: Polymorphism\n",
        "\n",
        "Continuing from the above task, create a function animal_speak(animal) which accepts an Animal object and calls its speak() method. This demonstrates polymorphism because you can pass any object of a class derived from Animal to this function and it will work."
      ],
      "metadata": {
        "id": "Sv2Lk94sYC-A"
      }
    },
    {
      "cell_type": "code",
      "source": [
        "class Animal():\n",
        "  def speak(self):\n",
        "   print(\"I don't know what I say!\")\n",
        "class Dog(Animal):\n",
        " def speak(self):\n",
        "  print(\"Woof Woof!\")\n",
        "class Cat(Animal):\n",
        "  def speak(self):\n",
        "    print(\"Meow Meow!\")\n",
        "def  animal_speak(animal):\n",
        "  return animal.speak()"
      ],
      "metadata": {
        "id": "jBEi6OEHX8zL"
      },
      "execution_count": 38,
      "outputs": []
    },
    {
      "cell_type": "code",
      "source": [
        "animal_speak(Animal())\n",
        "animal_speak(cat)\n",
        "animal_speak(dog)"
      ],
      "metadata": {
        "colab": {
          "base_uri": "https://localhost:8080/"
        },
        "id": "N4gFep30dNfo",
        "outputId": "988490a9-440c-446e-a492-02d7ccc6971a"
      },
      "execution_count": 42,
      "outputs": [
        {
          "output_type": "stream",
          "name": "stdout",
          "text": [
            "I don't know what I say!\n",
            "Meow Meow!\n",
            "Woof Woof!\n"
          ]
        }
      ]
    },
    {
      "cell_type": "markdown",
      "source": [
        "Task 3: Encapsulation\n",
        "\n",
        "Create a class Car with two attributes: color (public) and __speed (private). The class should have methods accelerate() which increases the speed by 10 and get_speed() which returns the current speed. The __speed attribute should be modified only through the accelerate() method, demonstrating the principle of encapsulation.\n",
        "\n"
      ],
      "metadata": {
        "id": "c9LaNAcyfEfU"
      }
    },
    {
      "cell_type": "code",
      "source": [
        "class Car():\n",
        "  def __init__(self,color,speed):\n",
        "    self.color=color\n",
        "    self.__speed=speed\n",
        "  def accelerate(self,):\n",
        "   self.__speed+=10\n",
        "  def get_speed(self):\n",
        "    return self.__speed"
      ],
      "metadata": {
        "id": "hZTyyBbDe7M_"
      },
      "execution_count": 51,
      "outputs": []
    },
    {
      "cell_type": "code",
      "source": [
        "car=Car(\"red\",78)\n",
        "car.accelerate()\n",
        "car.get_speed()"
      ],
      "metadata": {
        "colab": {
          "base_uri": "https://localhost:8080/"
        },
        "id": "Mj6NeatYikZS",
        "outputId": "c0e78f60-2ce5-4ec7-e68b-e9c24aa703d3"
      },
      "execution_count": 50,
      "outputs": [
        {
          "output_type": "execute_result",
          "data": {
            "text/plain": [
              "88"
            ]
          },
          "metadata": {},
          "execution_count": 50
        }
      ]
    }
  ]
}