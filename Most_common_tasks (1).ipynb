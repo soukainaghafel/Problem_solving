{
  "nbformat": 4,
  "nbformat_minor": 0,
  "metadata": {
    "colab": {
      "provenance": []
    },
    "kernelspec": {
      "name": "python3",
      "display_name": "Python 3"
    },
    "language_info": {
      "name": "python"
    }
  },
  "cells": [
    {
      "cell_type": "markdown",
      "source": [
        "#Two Sum Problem\n",
        "Problem Statement: Given an array of integers nums and an integer target, return the indices of the two numbers such that they add up to target."
      ],
      "metadata": {
        "id": "Q79Nj2rVV1h7"
      }
    },
    {
      "cell_type": "code",
      "source": [
        "def two_sum(nums, target):\n",
        " n2= []\n",
        " for i in range(len(nums)):\n",
        "  for j in range(i+1,len(nums)):\n",
        "    if nums[i]+nums[j]==target:\n",
        "     n2.extend([i,j])\n",
        " return n2\n",
        "# assert two_sum([2,7,11,15], 9) == [0, 1]\n",
        "# assert two_sum([3,2,4], 6) == [1, 2]\n"
      ],
      "metadata": {
        "id": "qjvrau1MV7Rg"
      },
      "execution_count": 41,
      "outputs": []
    },
    {
      "cell_type": "code",
      "source": [
        "two_sum([2,7,11,15], 9)"
      ],
      "metadata": {
        "id": "DyByAONMWAsi",
        "colab": {
          "base_uri": "https://localhost:8080/"
        },
        "outputId": "f5afefd7-ab22-4ce6-f4af-61bc928a9e09"
      },
      "execution_count": 42,
      "outputs": [
        {
          "output_type": "execute_result",
          "data": {
            "text/plain": [
              "[0, 1]"
            ]
          },
          "metadata": {},
          "execution_count": 42
        }
      ]
    },
    {
      "cell_type": "markdown",
      "source": [
        "# Check Palindrome\n",
        "Problem Statement: Given a string, determine if it is a palindrome. A palindrome reads the same backward as forward."
      ],
      "metadata": {
        "id": "FVAwRXQ9WBaZ"
      }
    },
    {
      "cell_type": "code",
      "source": [
        "def is_palindrome(s):\n",
        " if s==s[::-1]:\n",
        "  return True\n",
        " else:\n",
        "  return False\n",
        "#assert is_palindrome(\"racecar\") == True\n",
        "#assert is_palindrome(\"hello\") == False\n"
      ],
      "metadata": {
        "id": "K4-C-J9_WFne"
      },
      "execution_count": 46,
      "outputs": []
    },
    {
      "cell_type": "code",
      "source": [
        "is_palindrome(\"hello\")"
      ],
      "metadata": {
        "id": "eTm6bLYVWJ5Q",
        "colab": {
          "base_uri": "https://localhost:8080/"
        },
        "outputId": "d4e7f816-d868-4594-bbaa-229b7bd197f3"
      },
      "execution_count": 48,
      "outputs": [
        {
          "output_type": "execute_result",
          "data": {
            "text/plain": [
              "False"
            ]
          },
          "metadata": {},
          "execution_count": 48
        }
      ]
    },
    {
      "cell_type": "markdown",
      "source": [
        "#FizzBuzz\n",
        "Problem Statement: Write a program that outputs the string representation of numbers from 1 to n. But for multiples of three, it should output “Fizz” instead of the number, and for the multiples of five output “Buzz”. For numbers which are multiples of both three and five output “FizzBuzz”."
      ],
      "metadata": {
        "id": "wRF4-jIfWKDS"
      }
    },
    {
      "cell_type": "code",
      "source": [
        "def fizz_buzz(n):\n",
        "  s1=[]\n",
        "  for i in range(1,n+1):\n",
        "   if i%3==0:\n",
        "    s1.append(\"Fizz\")\n",
        "   elif i%5==0:\n",
        "     s1.append(\"Buzz\")\n",
        "   elif i%3==0 and i%5==0:\n",
        "    s1.append(\"FizzBuzz\")\n",
        "   else:\n",
        "    s1.append(str(i))\n",
        "  return s1\n",
        "#assert fizz_buzz(5) == [\"1\", \"2\", \"Fizz\", \"4\", \"Buzz\"]\n"
      ],
      "metadata": {
        "id": "sdgvNgqIWNzf"
      },
      "execution_count": 57,
      "outputs": []
    },
    {
      "cell_type": "code",
      "source": [
        "fizz_buzz(5)"
      ],
      "metadata": {
        "id": "qVgbsAUHWROo",
        "colab": {
          "base_uri": "https://localhost:8080/"
        },
        "outputId": "cff373c6-1b7d-46d5-fca7-54b4819bb0c6"
      },
      "execution_count": 58,
      "outputs": [
        {
          "output_type": "execute_result",
          "data": {
            "text/plain": [
              "['1', '2', 'Fizz', '4', 'Buzz']"
            ]
          },
          "metadata": {},
          "execution_count": 58
        }
      ]
    },
    {
      "cell_type": "markdown",
      "source": [
        "#Prime Number Checker\n",
        "Problem Statement: Determine if a given number n is prime."
      ],
      "metadata": {
        "id": "TTUEYMenWSZX"
      }
    },
    {
      "cell_type": "code",
      "source": [
        "def is_prime(n):\n",
        "  basic_prime = [2,3]\n",
        "  if n in basic_prime:\n",
        "    return True\n",
        "  for i in range(2,n):\n",
        "    if (n%i) == 0:\n",
        "      return False\n",
        "    else:\n",
        "      return True\n",
        "#assert is_prime(2) == True\n",
        "#assert is_prime(4) == False"
      ],
      "metadata": {
        "id": "S8lzLlNb1jhQ"
      },
      "execution_count": 7,
      "outputs": []
    },
    {
      "cell_type": "code",
      "source": [
        "is_prime(11)"
      ],
      "metadata": {
        "colab": {
          "base_uri": "https://localhost:8080/"
        },
        "id": "lyzFP7zq9vG3",
        "outputId": "8987e982-b3d6-4bbc-c037-d4ddc7f10157"
      },
      "execution_count": 8,
      "outputs": [
        {
          "output_type": "execute_result",
          "data": {
            "text/plain": [
              "True"
            ]
          },
          "metadata": {},
          "execution_count": 8
        }
      ]
    },
    {
      "cell_type": "code",
      "source": [
        "def is_prime1(num):\n",
        "    for i in range(2, num):\n",
        "        if (num % i) == 0:\n",
        "            print(num, \"is not a prime number\")\n",
        "            break\n",
        "    else:\n",
        "      print(num, \"is a prime number\")"
      ],
      "metadata": {
        "id": "2Wdl-1fnaK7J"
      },
      "execution_count": 9,
      "outputs": []
    },
    {
      "cell_type": "code",
      "source": [
        "is_prime1(11)"
      ],
      "metadata": {
        "colab": {
          "base_uri": "https://localhost:8080/"
        },
        "id": "ZX8ha_U729KC",
        "outputId": "b010a7b4-dbb3-4f4e-e0c1-4eb200bb7df7"
      },
      "execution_count": 10,
      "outputs": [
        {
          "output_type": "stream",
          "name": "stdout",
          "text": [
            "11 is a prime number\n"
          ]
        }
      ]
    },
    {
      "cell_type": "markdown",
      "source": [
        "#Roman to Integer\n",
        "Problem Statement: Convert a Roman numeral s to an integer."
      ],
      "metadata": {
        "id": "Bst4ujwKWlyy"
      }
    },
    {
      "cell_type": "code",
      "source": [
        "def roman_to_int(s):\n",
        "    pass\n",
        "#assert roman_to_int(\"III\") == 3\n",
        "#assert roman_to_int(\"IV\") == 4\n"
      ],
      "metadata": {
        "id": "4HuZfAtCWpGU"
      },
      "execution_count": null,
      "outputs": []
    },
    {
      "cell_type": "code",
      "source": [
        "!pip install roman"
      ],
      "metadata": {
        "id": "JA0Nl2CN4yAp"
      },
      "execution_count": null,
      "outputs": []
    },
    {
      "cell_type": "code",
      "source": [
        "import roman\n",
        "def roman_to_int(s:str)->int:\n",
        " result=roman.fromRoman(s)\n",
        " return result"
      ],
      "metadata": {
        "id": "DtVJ_543Wpa2"
      },
      "execution_count": 119,
      "outputs": []
    },
    {
      "cell_type": "code",
      "source": [
        "roman_to_int(\"XXIV\")"
      ],
      "metadata": {
        "colab": {
          "base_uri": "https://localhost:8080/"
        },
        "id": "O0mVRERI3ykA",
        "outputId": "68120fe7-8033-4dfd-a7a1-ee2e8ef1e73d"
      },
      "execution_count": 121,
      "outputs": [
        {
          "output_type": "execute_result",
          "data": {
            "text/plain": [
              "24"
            ]
          },
          "metadata": {},
          "execution_count": 121
        }
      ]
    },
    {
      "cell_type": "markdown",
      "source": [
        "#List Overlap\n",
        "Problem Statement: Given two lists, find and return the common elements between them in a new list. The elements in the output list should not repeat."
      ],
      "metadata": {
        "id": "sciQK6N-Wu5a"
      }
    },
    {
      "cell_type": "code",
      "source": [
        "from typing import List"
      ],
      "metadata": {
        "id": "gwlAqjyeUYDA"
      },
      "execution_count": 8,
      "outputs": []
    },
    {
      "cell_type": "code",
      "source": [
        "def find_common(nums1:List, nums2:List)->List:\n",
        "    return list(set(nums1).intersection(set(nums2)))\n",
        "#assert find_common([1,2,2,1], [2,2]) == [2]\n",
        "#assert find_common([4,9,5], [9,4,9,8,4]) == [4,9]"
      ],
      "metadata": {
        "id": "AMNuD1LQWx1-"
      },
      "execution_count": 9,
      "outputs": []
    }
  ]
}